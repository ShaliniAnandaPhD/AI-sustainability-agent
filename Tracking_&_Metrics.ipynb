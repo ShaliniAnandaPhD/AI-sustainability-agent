{
  "nbformat": 4,
  "nbformat_minor": 0,
  "metadata": {
    "colab": {
      "provenance": [],
      "authorship_tag": "ABX9TyPDwyW5sCXwhQGU0BirzQhb",
      "include_colab_link": true
    },
    "kernelspec": {
      "name": "python3",
      "display_name": "Python 3"
    },
    "language_info": {
      "name": "python"
    }
  },
  "cells": [
    {
      "cell_type": "markdown",
      "metadata": {
        "id": "view-in-github",
        "colab_type": "text"
      },
      "source": [
        "<a href=\"https://colab.research.google.com/github/ShaliniAnandaPhD/AI-sustainability-agent/blob/main/Tracking_%26_Metrics.ipynb\" target=\"_parent\"><img src=\"https://colab.research.google.com/assets/colab-badge.svg\" alt=\"Open In Colab\"/></a>"
      ]
    },
    {
      "cell_type": "markdown",
      "source": [
        "\n",
        "\n",
        "### Behavioral Metrics\n",
        "1. **Energy Saved**: Track the number of users who commit to turning off lights, using energy-saving bulbs, or other energy-conserving behaviors.\n",
        "2. **Water Saved**: Count commitments to reducing water usage, like fixing leaks or taking shorter showers.\n",
        "3. **Waste Reduced**: Track how many people plan to reduce, reuse, or recycle.\n",
        "4. **Transport**: Count how many users commit to using public transport, carpooling, biking, or walking instead of driving alone.\n",
        "5. **Meatless Meals**: Keep a record of the number of users who agree to eat meatless meals to reduce their carbon footprint.\n",
        "\n",
        "### Knowledge Metrics\n",
        "1. **Awareness Raised**: Measure the number of conversations where the bot provided valuable information on sustainability.\n",
        "2. **Topics Discussed**: Track the frequency of various sustainability topics discussed (climate change, recycling, conservation, etc.).\n",
        "3. **Questions Answered**: Count the number of questions the bot successfully answered related to sustainability.\n",
        "\n",
        "### Monetary Metrics\n",
        "1. **Donations**: If your chatbot can facilitate donations to environmental organizations, track the total dollar amount or number of users who donated.\n",
        "2. **Products Bought**: If the chatbot suggests sustainable products (e.g., reusable water bottles), you can track how many were bought via the chatbot's recommendations.\n",
        "\n",
        "### Engagement Metrics\n",
        "1. **User Retention**: Measure the number of return users to understand if the bot is effectively engaging users over the long term.\n",
        "2. **Session Duration**: Average time a user spends interacting with the bot, as a longer time may indicate more in-depth engagement.\n",
        "3. **Conversational Depth**: The number of exchanges in a single conversation can indicate whether the conversation was cursory or had depth.\n",
        "\n",
        "### Social Share Metrics\n",
        "1. **Shares and Referrals**: Track how many users shared information or invited others to use the chatbot.\n",
        "\n",
        "By regularly monitoring these metrics, you can understand not only the reach of your chatbot but also its effectiveness in driving real-world change towards sustainability. You can adapt your bot's behavior, content, and recommendations based on what you learn from these metrics to make it more effective over time."
      ],
      "metadata": {
        "id": "Hrfom3zcfRGw"
      }
    },
    {
      "cell_type": "code",
      "source": [],
      "metadata": {
        "id": "wa7evVqhfNb1"
      },
      "execution_count": null,
      "outputs": []
    },
    {
      "cell_type": "code",
      "execution_count": 1,
      "metadata": {
        "colab": {
          "base_uri": "https://localhost:8080/"
        },
        "id": "khWoUu7HZRLL",
        "outputId": "fbf7c9fa-0aeb-447f-9890-6d723a15cf26"
      },
      "outputs": [
        {
          "output_type": "stream",
          "name": "stdout",
          "text": [
            "Requirement already satisfied: pandas in /usr/local/lib/python3.10/dist-packages (1.5.3)\n",
            "Requirement already satisfied: python-dateutil>=2.8.1 in /usr/local/lib/python3.10/dist-packages (from pandas) (2.8.2)\n",
            "Requirement already satisfied: pytz>=2020.1 in /usr/local/lib/python3.10/dist-packages (from pandas) (2023.3.post1)\n",
            "Requirement already satisfied: numpy>=1.21.0 in /usr/local/lib/python3.10/dist-packages (from pandas) (1.23.5)\n",
            "Requirement already satisfied: six>=1.5 in /usr/local/lib/python3.10/dist-packages (from python-dateutil>=2.8.1->pandas) (1.16.0)\n"
          ]
        }
      ],
      "source": [
        "!pip install pandas"
      ]
    },
    {
      "cell_type": "code",
      "source": [
        "import pandas as pd\n"
      ],
      "metadata": {
        "id": "n-9ZzpxteyLu"
      },
      "execution_count": 2,
      "outputs": []
    },
    {
      "cell_type": "code",
      "source": [
        "# Sample conversation logs\n",
        "data = {'User': ['Tell me about sustainability', 'How can I reduce carbon?', 'Tell me more'],\n",
        "        'Bot': ['Sustainability is about long-term well-being.', 'Consider using public transport.', 'Reducing waste also helps.']}\n",
        "df = pd.DataFrame(data)\n"
      ],
      "metadata": {
        "id": "LiOFaYB_e1Uj"
      },
      "execution_count": 3,
      "outputs": []
    },
    {
      "cell_type": "code",
      "source": [
        "# Count how often the bot suggests certain actions\n",
        "bot_suggests = df['Bot'].str.split(expand=True).stack().value_counts()\n",
        "\n",
        "# Count how often users ask about certain topics\n",
        "user_asks = df['User'].str.split(expand=True).stack().value_counts()\n",
        "\n",
        "print(\"Bot suggestions frequency:\")\n",
        "print(bot_suggests)\n",
        "\n",
        "print(\"\\nUser query frequency:\")\n",
        "print(user_asks)\n"
      ],
      "metadata": {
        "colab": {
          "base_uri": "https://localhost:8080/"
        },
        "id": "ZL-6apm4e37t",
        "outputId": "764b0aec-188f-480d-f4ba-e6cee200ac2b"
      },
      "execution_count": 4,
      "outputs": [
        {
          "output_type": "stream",
          "name": "stdout",
          "text": [
            "Bot suggestions frequency:\n",
            "Sustainability    1\n",
            "is                1\n",
            "about             1\n",
            "long-term         1\n",
            "well-being.       1\n",
            "Consider          1\n",
            "using             1\n",
            "public            1\n",
            "transport.        1\n",
            "Reducing          1\n",
            "waste             1\n",
            "also              1\n",
            "helps.            1\n",
            "dtype: int64\n",
            "\n",
            "User query frequency:\n",
            "Tell              2\n",
            "me                2\n",
            "about             1\n",
            "sustainability    1\n",
            "How               1\n",
            "can               1\n",
            "I                 1\n",
            "reduce            1\n",
            "carbon?           1\n",
            "more              1\n",
            "dtype: int64\n"
          ]
        }
      ]
    },
    {
      "cell_type": "code",
      "source": [
        "sustainability_keywords = ['public', 'transport', 'waste', 'reduce']\n",
        "sustainability_count = df['Bot'].apply(lambda x: any(keyword in x for keyword in sustainability_keywords)).sum()\n",
        "\n",
        "print(f\"Sustainability-related suggestions made by the bot: {sustainability_count}\")\n"
      ],
      "metadata": {
        "colab": {
          "base_uri": "https://localhost:8080/"
        },
        "id": "gihA2oCSe7Ae",
        "outputId": "4ab67c6d-abc7-4a19-9d31-9c4f236abf59"
      },
      "execution_count": 5,
      "outputs": [
        {
          "output_type": "stream",
          "name": "stdout",
          "text": [
            "Sustainability-related suggestions made by the bot: 2\n"
          ]
        }
      ]
    },
    {
      "cell_type": "code",
      "source": [
        "!pip install pandas\n",
        "import pandas as pd\n"
      ],
      "metadata": {
        "colab": {
          "base_uri": "https://localhost:8080/"
        },
        "id": "7n4-OB0pfW98",
        "outputId": "6a58bd5a-c00b-454a-9074-6c42dbe11a05"
      },
      "execution_count": 6,
      "outputs": [
        {
          "output_type": "stream",
          "name": "stdout",
          "text": [
            "Requirement already satisfied: pandas in /usr/local/lib/python3.10/dist-packages (1.5.3)\n",
            "Requirement already satisfied: python-dateutil>=2.8.1 in /usr/local/lib/python3.10/dist-packages (from pandas) (2.8.2)\n",
            "Requirement already satisfied: pytz>=2020.1 in /usr/local/lib/python3.10/dist-packages (from pandas) (2023.3.post1)\n",
            "Requirement already satisfied: numpy>=1.21.0 in /usr/local/lib/python3.10/dist-packages (from pandas) (1.23.5)\n",
            "Requirement already satisfied: six>=1.5 in /usr/local/lib/python3.10/dist-packages (from python-dateutil>=2.8.1->pandas) (1.16.0)\n"
          ]
        }
      ]
    },
    {
      "cell_type": "code",
      "source": [
        "# Sample data simulating some conversations between a user and the bot.\n",
        "data = {'User': ['Tell me about energy saving', 'How can I save water?', 'How can I recycle?', 'I want to donate', 'Tell me about public transport'],\n",
        "        'Bot': ['You can save energy by using LED lights.', 'Fix leaks to save water.', 'Recycling centers can help.', 'You can donate to Greenpeace.', 'Public transport reduces carbon footprint.']}\n",
        "\n",
        "df = pd.DataFrame(data)\n"
      ],
      "metadata": {
        "id": "PnfwlCq3ffih"
      },
      "execution_count": 7,
      "outputs": []
    },
    {
      "cell_type": "markdown",
      "source": [
        "Behavioral metrics"
      ],
      "metadata": {
        "id": "w7SCEKbSfkZ5"
      }
    },
    {
      "cell_type": "code",
      "source": [
        "# Count energy-saving suggestions made by the bot.\n",
        "energy_saved_count = df['Bot'].apply(lambda x: 'energy' in x.lower()).sum()\n",
        "\n",
        "# Count water-saving suggestions made by the bot.\n",
        "water_saved_count = df['Bot'].apply(lambda x: 'water' in x.lower()).sum()\n",
        "\n",
        "# Count waste reduction suggestions made by the bot.\n",
        "waste_reduced_count = df['Bot'].apply(lambda x: 'recycle' in x.lower()).sum()\n",
        "\n",
        "# Count transport-related suggestions made by the bot.\n",
        "transport_count = df['Bot'].apply(lambda x: 'transport' in x.lower()).sum()\n",
        "\n",
        "# Count meatless meals suggestions made by the bot. (Assume none for this example)\n",
        "meatless_count = 0\n"
      ],
      "metadata": {
        "id": "StMc-a0mfhf6"
      },
      "execution_count": 8,
      "outputs": []
    },
    {
      "cell_type": "markdown",
      "source": [
        "Knowledge metrics"
      ],
      "metadata": {
        "id": "tsk89LeWfse1"
      }
    },
    {
      "cell_type": "code",
      "source": [
        "# Count conversations where the bot raised awareness.\n",
        "awareness_count = df.shape[0]  # Assuming all conversations raise awareness\n",
        "\n",
        "# Count different topics discussed.\n",
        "topics_count = df['User'].apply(lambda x: x.lower().split(' ')[-1]).nunique()\n"
      ],
      "metadata": {
        "id": "dpNanZfWfrE8"
      },
      "execution_count": 9,
      "outputs": []
    },
    {
      "cell_type": "markdown",
      "source": [
        "Monetary metrics"
      ],
      "metadata": {
        "id": "8tULCo8dfxkK"
      }
    },
    {
      "cell_type": "code",
      "source": [
        "# Count donation-related conversations.\n",
        "donation_count = df['User'].apply(lambda x: 'donate' in x.lower()).sum()\n",
        "\n",
        "# Count product purchase suggestions. (Assume none for this example)\n",
        "product_count = 0\n"
      ],
      "metadata": {
        "id": "G2C-D01Jf0E0"
      },
      "execution_count": 10,
      "outputs": []
    },
    {
      "cell_type": "markdown",
      "source": [
        "Engagement metrics"
      ],
      "metadata": {
        "id": "WsSxdoe5f13j"
      }
    },
    {
      "cell_type": "code",
      "source": [
        "# Count number of return users. (Assume 1 for this example)\n",
        "return_users_count = 1\n",
        "\n",
        "# Calculate average session duration. (Assume 5 minutes for this example)\n",
        "avg_session_duration = 5\n"
      ],
      "metadata": {
        "id": "Scr7tlwyf59Q"
      },
      "execution_count": 11,
      "outputs": []
    },
    {
      "cell_type": "markdown",
      "source": [
        "Social share metrics"
      ],
      "metadata": {
        "id": "tQSNOBcAf7n6"
      }
    },
    {
      "cell_type": "code",
      "source": [
        "# Count number of shares and referrals. (Assume 2 for this example)\n",
        "shares_count = 2\n"
      ],
      "metadata": {
        "id": "JmR8W27-f9KG"
      },
      "execution_count": 12,
      "outputs": []
    },
    {
      "cell_type": "markdown",
      "source": [
        "Print metrics"
      ],
      "metadata": {
        "id": "qr1XJbPngBp1"
      }
    },
    {
      "cell_type": "code",
      "source": [
        "print(f'Energy-saving suggestions: {energy_saved_count}')\n",
        "print(f'Water-saving suggestions: {water_saved_count}')\n",
        "print(f'Waste-reducing suggestions: {waste_reduced_count}')\n",
        "print(f'Transport-related suggestions: {transport_count}')\n",
        "print(f'Meatless meal suggestions: {meatless_count}')\n",
        "print(f'Conversations that raised awareness: {awareness_count}')\n",
        "print(f'Different topics discussed: {topics_count}')\n",
        "print(f'Donation-related conversations: {donation_count}')\n",
        "print(f'Product purchase suggestions: {product_count}')\n",
        "print(f'Number of return users: {return_users_count}')\n",
        "print(f'Average session duration (minutes): {avg_session_duration}')\n",
        "print(f'Number of shares and referrals: {shares_count}')\n"
      ],
      "metadata": {
        "colab": {
          "base_uri": "https://localhost:8080/"
        },
        "id": "LMGuJyzIgAnr",
        "outputId": "6d3d1609-8708-4de8-8c43-fc7a517f388a"
      },
      "execution_count": 13,
      "outputs": [
        {
          "output_type": "stream",
          "name": "stdout",
          "text": [
            "Energy-saving suggestions: 1\n",
            "Water-saving suggestions: 1\n",
            "Waste-reducing suggestions: 0\n",
            "Transport-related suggestions: 1\n",
            "Meatless meal suggestions: 0\n",
            "Conversations that raised awareness: 5\n",
            "Different topics discussed: 5\n",
            "Donation-related conversations: 1\n",
            "Product purchase suggestions: 0\n",
            "Number of return users: 1\n",
            "Average session duration (minutes): 5\n",
            "Number of shares and referrals: 2\n"
          ]
        }
      ]
    }
  ]
}