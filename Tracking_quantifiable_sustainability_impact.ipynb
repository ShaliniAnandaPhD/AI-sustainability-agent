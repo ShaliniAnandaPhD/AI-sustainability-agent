{
  "nbformat": 4,
  "nbformat_minor": 0,
  "metadata": {
    "colab": {
      "provenance": [],
      "authorship_tag": "ABX9TyOQBhzztjlgNQ9CNqzflfUK",
      "include_colab_link": true
    },
    "kernelspec": {
      "name": "python3",
      "display_name": "Python 3"
    },
    "language_info": {
      "name": "python"
    }
  },
  "cells": [
    {
      "cell_type": "markdown",
      "metadata": {
        "id": "view-in-github",
        "colab_type": "text"
      },
      "source": [
        "<a href=\"https://colab.research.google.com/github/ShaliniAnandaPhD/AI-sustainability-agent/blob/main/Tracking_quantifiable_sustainability_impact.ipynb\" target=\"_parent\"><img src=\"https://colab.research.google.com/assets/colab-badge.svg\" alt=\"Open In Colab\"/></a>"
      ]
    },
    {
      "cell_type": "markdown",
      "source": [],
      "metadata": {
        "id": "XbeZ_E3PnJx0"
      }
    },
    {
      "cell_type": "markdown",
      "source": [
        "**Code Explanation:**\n",
        "\n",
        "get_current_metrics() function simulates an API call to get the current sustainability metrics.\n",
        "\n",
        "update_metrics() function simulates an API call to update the metrics based on the user interaction with the chatbot.\n",
        "\n",
        "interact_with_chatbot() function simulates the actual chatbot interaction.\n",
        "The main part of the code gets the metrics before and after the chatbot interaction to show the impact."
      ],
      "metadata": {
        "id": "7AfHLC8YmroH"
      }
    },
    {
      "cell_type": "markdown",
      "source": [
        "How to Run:\n",
        "\n",
        "Copy the code into a Python file (e.g., sustainability_metrics.py).\n",
        "Run the code (python sustainability_metrics.py).\n",
        "\n",
        "You'll see the metrics before and after the chatbot interaction and the sustainability impact."
      ],
      "metadata": {
        "id": "7Ox4dGbCm30C"
      }
    },
    {
      "cell_type": "code",
      "source": [
        "import json\n",
        "import random\n",
        "\n",
        "# Simulate API call to get current sustainability metrics\n",
        "def get_current_metrics():\n",
        "    # Replace this with actual API call or database query\n",
        "    return {\n",
        "        'energy_use': random.randint(1000, 2000),  # kWh\n",
        "        'miles_driven': random.randint(100, 500),  # miles\n",
        "        'dollars_donated': random.randint(100, 1000)  # dollars\n",
        "    }\n",
        "\n",
        "# Simulate API call to update the metrics based on user interaction\n",
        "def update_metrics(interaction_data):\n",
        "    # Replace this with actual API call or database update\n",
        "    updated_metrics = {\n",
        "        'energy_use': interaction_data['energy_saved'],  # Decrease energy use\n",
        "        'miles_driven': -interaction_data['miles_saved'],  # Decrease miles driven\n",
        "        'dollars_donated': interaction_data['dollars_donated']  # Increase dollars donated\n",
        "    }\n",
        "    return updated_metrics\n",
        "\n",
        "# Simulate chatbot interaction\n",
        "def interact_with_chatbot():\n",
        "    # This is where your chatbot code will go\n",
        "    # For now, let's simulate the interaction data\n",
        "    interaction_data = {\n",
        "        'energy_saved': random.randint(10, 50),  # kWh saved due to chatbot tips\n",
        "        'miles_saved': random.randint(1, 20),  # miles saved due to chatbot suggestions\n",
        "        'dollars_donated': random.randint(1, 100)  # dollars donated via chatbot\n",
        "    }\n",
        "    return interaction_data\n",
        "\n",
        "# Main part of the code\n",
        "if __name__ == \"__main__\":\n",
        "    # Get metrics before chatbot interaction\n",
        "    before_metrics = get_current_metrics()\n",
        "    print(f\"Metrics before chatbot interaction: {json.dumps(before_metrics, indent=4)}\")\n",
        "\n",
        "    # User interacts with the chatbot\n",
        "    interaction_data = interact_with_chatbot()\n",
        "\n",
        "    # Update metrics based on chatbot interaction\n",
        "    updated_metrics = update_metrics(interaction_data)\n",
        "\n",
        "    # Get metrics after chatbot interaction\n",
        "    after_metrics = get_current_metrics()\n",
        "    for key, value in updated_metrics.items():\n",
        "        after_metrics[key] += value\n",
        "\n",
        "    print(f\"Metrics after chatbot interaction: {json.dumps(after_metrics, indent=4)}\")\n",
        "\n",
        "    # Calculate impact\n",
        "    impact = {}\n",
        "    for key in before_metrics.keys():\n",
        "        impact[key] = after_metrics[key] - before_metrics[key]\n",
        "\n",
        "    print(f\"Sustainability impact due to chatbot: {json.dumps(impact, indent=4)}\")\n"
      ],
      "metadata": {
        "colab": {
          "base_uri": "https://localhost:8080/"
        },
        "id": "zjQ5idVEmvEZ",
        "outputId": "8cde50e6-03c1-449d-fd3a-12a79494803d"
      },
      "execution_count": 1,
      "outputs": [
        {
          "output_type": "stream",
          "name": "stdout",
          "text": [
            "Metrics before chatbot interaction: {\n",
            "    \"energy_use\": 1737,\n",
            "    \"miles_driven\": 241,\n",
            "    \"dollars_donated\": 471\n",
            "}\n",
            "Metrics after chatbot interaction: {\n",
            "    \"energy_use\": 1451,\n",
            "    \"miles_driven\": 359,\n",
            "    \"dollars_donated\": 892\n",
            "}\n",
            "Sustainability impact due to chatbot: {\n",
            "    \"energy_use\": -286,\n",
            "    \"miles_driven\": 118,\n",
            "    \"dollars_donated\": 421\n",
            "}\n"
          ]
        }
      ]
    },
    {
      "cell_type": "markdown",
      "source": [
        "GOING THROUGH THE CODE"
      ],
      "metadata": {
        "id": "TatLHl-8ojWo"
      }
    },
    {
      "cell_type": "markdown",
      "source": [
        "Importing Libraries\n",
        "\n",
        "import json: This imports the JSON library, which is used for formatting printed output.\n",
        "\n",
        "import random: This imports the random library, used to generate random numbers for simulating metrics and interactions."
      ],
      "metadata": {
        "id": "K9kbxM9tn31v"
      }
    },
    {
      "cell_type": "code",
      "source": [
        "import json\n",
        "import random\n"
      ],
      "metadata": {
        "id": "Zyuh5RowolWR"
      },
      "execution_count": null,
      "outputs": []
    },
    {
      "cell_type": "markdown",
      "source": [
        "Get Current metrics\n",
        "\n",
        "This function simulates an API call to get current sustainability metrics like energy use, miles driven, and dollars donated.\n",
        "\n",
        "It returns these metrics in a dictionary.\n",
        "\n",
        "For simplicity, the function uses random numbers to simulate the metrics."
      ],
      "metadata": {
        "id": "SAxQEmqGowFp"
      }
    },
    {
      "cell_type": "code",
      "source": [
        "def get_current_metrics():\n",
        "    return {\n",
        "        'energy_use': random.randint(1000, 2000),\n",
        "        'miles_driven': random.randint(100, 500),\n",
        "        'dollars_donated': random.randint(100, 1000)\n",
        "    }\n"
      ],
      "metadata": {
        "id": "pPThYgvqo8wq"
      },
      "execution_count": null,
      "outputs": []
    },
    {
      "cell_type": "markdown",
      "source": [
        "Update metrics\n",
        "\n",
        "This function takes interaction_data as an argument, which contains the changes in metrics due to chatbot interaction.\n",
        "\n",
        "The function constructs a dictionary called updated_metrics based on this interaction data.\n",
        "\n",
        "It returns updated_metrics to show how each metric would change due to the interaction."
      ],
      "metadata": {
        "id": "UixmoHKFpAhb"
      }
    },
    {
      "cell_type": "code",
      "source": [
        "def update_metrics(interaction_data):\n",
        "    updated_metrics = {\n",
        "        'energy_use': interaction_data['energy_saved'],\n",
        "        'miles_driven': -interaction_data['miles_saved'],\n",
        "        'dollars_donated': interaction_data['dollars_donated']\n",
        "    }\n",
        "    return updated_metrics\n"
      ],
      "metadata": {
        "id": "DlQPi7zmpDZd"
      },
      "execution_count": null,
      "outputs": []
    },
    {
      "cell_type": "markdown",
      "source": [
        "Simulate Chatbot Interaction\n",
        "\n",
        "This function simulates a user's interaction with the chatbot.\n",
        "\n",
        "interaction_data is a dictionary containing random values to represent how much energy was saved, miles were saved, and dollars were donated due to the chatbot.\n",
        "\n",
        "The function returns this data."
      ],
      "metadata": {
        "id": "henRI0CRpRyN"
      }
    },
    {
      "cell_type": "code",
      "source": [
        "def interact_with_chatbot():\n",
        "    interaction_data = {\n",
        "        'energy_saved': random.randint(10, 50),\n",
        "        'miles_saved': random.randint(1, 20),\n",
        "        'dollars_donated': random.randint(1, 100)\n",
        "    }\n",
        "    return interaction_data\n"
      ],
      "metadata": {
        "id": "shLOAZ8gpiLB"
      },
      "execution_count": null,
      "outputs": []
    },
    {
      "cell_type": "markdown",
      "source": [
        "Main code block\n",
        "\n",
        "This is the main section that orchestrates the entire process.\n",
        "It first gets the metrics before any chatbot interaction by calling get_current_metrics().\n",
        "\n",
        "Then it simulates chatbot interaction with interact_with_chatbot() and updates the metrics with update_metrics().\n",
        "\n",
        "Finally, it calculates the sustainability impact by comparing metrics before and after the chatbot interaction."
      ],
      "metadata": {
        "id": "n7Z6OtXPpoHn"
      }
    },
    {
      "cell_type": "code",
      "source": [
        "if __name__ == \"__main__\":\n",
        "    ...\n"
      ],
      "metadata": {
        "id": "HuxITkn1prOT"
      },
      "execution_count": 1,
      "outputs": []
    },
    {
      "cell_type": "markdown",
      "source": [
        "In a real-world application, you'd typically store and retrieve sustainability metrics from a database, and possibly use APIs for additional functionalities such as integrating with IoT sensors or other data sources. You may also use a more advanced chatbot that can interact with users to get or give suggestions on sustainability."
      ],
      "metadata": {
        "id": "1Xq_RhLwp3S4"
      }
    },
    {
      "cell_type": "markdown",
      "source": [
        "Using a Database (Simulated)\n",
        "Let's assume we're using a SQL-like database to store and retrieve metrics. For demonstration purposes, I'll simulate a database with Python dictionaries."
      ],
      "metadata": {
        "id": "9Z_VvM1xqDwE"
      }
    },
    {
      "cell_type": "code",
      "source": [
        "# Simulated 'Database'\n",
        "DATABASE = {\n",
        "    'energy_use': 1500,  # kWh\n",
        "    'miles_driven': 300,  # miles\n",
        "    'dollars_donated': 500  # dollars\n",
        "}\n",
        "\n",
        "# Fetch current metrics from the 'Database'\n",
        "def get_current_metrics():\n",
        "    return DATABASE\n",
        "\n",
        "# Update metrics in the 'Database'\n",
        "def update_metrics(interaction_data):\n",
        "    DATABASE['energy_use'] -= interaction_data['energy_saved']\n",
        "    DATABASE['miles_driven'] -= interaction_data['miles_saved']\n",
        "    DATABASE['dollars_donated'] += interaction_data['dollars_donated']\n"
      ],
      "metadata": {
        "id": "N668kjWKqBb0"
      },
      "execution_count": 2,
      "outputs": []
    },
    {
      "cell_type": "markdown",
      "source": [
        "Actual Chatbot Interaction (Simulated)\n",
        "\n",
        "Assume interact_with_chatbot() is a real function that interacts with a user via a chatbot."
      ],
      "metadata": {
        "id": "cqKnXs0hqNkN"
      }
    },
    {
      "cell_type": "code",
      "source": [
        "def interact_with_chatbot():\n",
        "    # Actual chatbot code would go here\n",
        "    # For now, just simulating the data the chatbot would produce\n",
        "    interaction_data = {\n",
        "        'energy_saved': 20,  # kWh saved due to real chatbot tips\n",
        "        'miles_saved': 5,  # miles saved due to real chatbot suggestions\n",
        "        'dollars_donated': 50  # dollars donated via real chatbot\n",
        "    }\n",
        "    return interaction_data\n"
      ],
      "metadata": {
        "id": "msblyMj8qOgM"
      },
      "execution_count": 3,
      "outputs": []
    },
    {
      "cell_type": "markdown",
      "source": [
        "Complete code"
      ],
      "metadata": {
        "id": "j0ytg-goqYeD"
      }
    },
    {
      "cell_type": "code",
      "source": [
        "import json\n",
        "\n",
        "# Simulated 'Database'\n",
        "DATABASE = {\n",
        "    'energy_use': 1500,  # kWh\n",
        "    'miles_driven': 300,  # miles\n",
        "    'dollars_donated': 500  # dollars\n",
        "}\n",
        "\n",
        "# Fetch current metrics from the 'Database'\n",
        "def get_current_metrics():\n",
        "    return DATABASE\n",
        "\n",
        "# Update metrics in the 'Database'\n",
        "def update_metrics(interaction_data):\n",
        "    DATABASE['energy_use'] -= interaction_data['energy_saved']\n",
        "    DATABASE['miles_driven'] -= interaction_data['miles_saved']\n",
        "    DATABASE['dollars_donated'] += interaction_data['dollars_donated']\n",
        "\n",
        "# Simulate chatbot interaction\n",
        "def interact_with_chatbot():\n",
        "    # Replace with actual chatbot code\n",
        "    interaction_data = {\n",
        "        'energy_saved': 20,\n",
        "        'miles_saved': 5,\n",
        "        'dollars_donated': 50\n",
        "    }\n",
        "    return interaction_data\n",
        "\n",
        "# Main part of the code\n",
        "if __name__ == \"__main__\":\n",
        "    before_metrics = get_current_metrics()\n",
        "    print(f\"Metrics before chatbot interaction: {json.dumps(before_metrics, indent=4)}\")\n",
        "\n",
        "    interaction_data = interact_with_chatbot()\n",
        "    update_metrics(interaction_data)\n",
        "\n",
        "    after_metrics = get_current_metrics()\n",
        "    print(f\"Metrics after chatbot interaction: {json.dumps(after_metrics, indent=4)}\")\n",
        "\n",
        "    impact = {}\n",
        "    for key in before_metrics.keys():\n",
        "        impact[key] = after_metrics[key] - before_metrics[key]\n",
        "\n",
        "    print(f\"Sustainability impact due to chatbot: {json.dumps(impact, indent=4)}\")\n"
      ],
      "metadata": {
        "colab": {
          "base_uri": "https://localhost:8080/"
        },
        "id": "lMAtz7ARqZ40",
        "outputId": "da1a8149-dae8-4767-830f-d2f5146bc6d2"
      },
      "execution_count": 4,
      "outputs": [
        {
          "output_type": "stream",
          "name": "stdout",
          "text": [
            "Metrics before chatbot interaction: {\n",
            "    \"energy_use\": 1500,\n",
            "    \"miles_driven\": 300,\n",
            "    \"dollars_donated\": 500\n",
            "}\n",
            "Metrics after chatbot interaction: {\n",
            "    \"energy_use\": 1480,\n",
            "    \"miles_driven\": 295,\n",
            "    \"dollars_donated\": 550\n",
            "}\n",
            "Sustainability impact due to chatbot: {\n",
            "    \"energy_use\": 0,\n",
            "    \"miles_driven\": 0,\n",
            "    \"dollars_donated\": 0\n",
            "}\n"
          ]
        }
      ]
    },
    {
      "cell_type": "markdown",
      "source": [
        "In a fully developed application, DATABASE would be an actual database, and you'd replace the interact_with_chatbot() function with your chatbot's interaction logic. Likewise, get_current_metrics() and update_metrics() would be replaced with SQL queries or API calls to get/update data in your actual database."
      ],
      "metadata": {
        "id": "_v0Su70BqWPM"
      }
    }
  ]
}