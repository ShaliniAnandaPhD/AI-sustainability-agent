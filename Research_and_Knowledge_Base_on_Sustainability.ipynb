{
  "nbformat": 4,
  "nbformat_minor": 0,
  "metadata": {
    "colab": {
      "provenance": [],
      "authorship_tag": "ABX9TyNsp1I/lLZf1S0D+w3qcmZj",
      "include_colab_link": true
    },
    "kernelspec": {
      "name": "python3",
      "display_name": "Python 3"
    },
    "language_info": {
      "name": "python"
    }
  },
  "cells": [
    {
      "cell_type": "markdown",
      "metadata": {
        "id": "view-in-github",
        "colab_type": "text"
      },
      "source": [
        "<a href=\"https://colab.research.google.com/github/ShaliniAnandaPhD/AI-sustainability-agent/blob/main/Research_and_Knowledge_Base_on_Sustainability.ipynb\" target=\"_parent\"><img src=\"https://colab.research.google.com/assets/colab-badge.svg\" alt=\"Open In Colab\"/></a>"
      ]
    },
    {
      "cell_type": "code",
      "execution_count": 2,
      "metadata": {
        "colab": {
          "base_uri": "https://localhost:8080/"
        },
        "id": "bxE3_0yOYXsq",
        "outputId": "1c49b9c2-c140-4aa5-8fe7-44f722294f71"
      },
      "outputs": [
        {
          "output_type": "stream",
          "name": "stdout",
          "text": [
            "Existing Knowledge Base:\n",
            "            Topic                                    Best Practices  \\\n",
            "0      Energy Use                               Switch to LED bulbs   \n",
            "1       Water Use          Install low-flow faucets and showerheads   \n",
            "2  Transportation  Walk, bike, or take public transit when possible   \n",
            "3            Food                           Eat less meat and dairy   \n",
            "4           Waste                        Reduce single-use plastics   \n",
            "5        Clothing            Buy secondhand and sustainable fabrics   \n",
            "6        Cleaning               Use green cleaners or make your own   \n",
            "\n",
            "                                                Tips  \n",
            "0  LED bulbs consume 90% less electricity than in...  \n",
            "1  Low-flow fixtures can reduce water use by 30-6...  \n",
            "2  Driving less reduces greenhouse gas emissions ...  \n",
            "3  Animal agriculture accounts for 14.5% of globa...  \n",
            "4  Only 9% of plastic waste gets recycled. Cut do...  \n",
            "5  Extend the lifecycle of clothing. Choose natur...  \n",
            "6  Avoid toxic chemicals. Vinegar, baking soda, a...  \n",
            "\n",
            "Adding a new entry:\n",
            "            Topic                                    Best Practices  \\\n",
            "0      Energy Use                               Switch to LED bulbs   \n",
            "1       Water Use          Install low-flow faucets and showerheads   \n",
            "2  Transportation  Walk, bike, or take public transit when possible   \n",
            "3            Food                           Eat less meat and dairy   \n",
            "4           Waste                        Reduce single-use plastics   \n",
            "5        Clothing            Buy secondhand and sustainable fabrics   \n",
            "6        Cleaning               Use green cleaners or make your own   \n",
            "7         Heating                  Install programmable thermostats   \n",
            "\n",
            "                                                Tips  \n",
            "0  LED bulbs consume 90% less electricity than in...  \n",
            "1  Low-flow fixtures can reduce water use by 30-6...  \n",
            "2  Driving less reduces greenhouse gas emissions ...  \n",
            "3  Animal agriculture accounts for 14.5% of globa...  \n",
            "4  Only 9% of plastic waste gets recycled. Cut do...  \n",
            "5  Extend the lifecycle of clothing. Choose natur...  \n",
            "6  Avoid toxic chemicals. Vinegar, baking soda, a...  \n",
            "7  Programmable thermostats can save up to 10% on...  \n",
            "\n",
            "Search results for 'Water':\n",
            "       Topic                            Best Practices  \\\n",
            "1  Water Use  Install low-flow faucets and showerheads   \n",
            "\n",
            "                                                Tips  \n",
            "1  Low-flow fixtures can reduce water use by 30-6...  \n"
          ]
        },
        {
          "output_type": "stream",
          "name": "stderr",
          "text": [
            "<ipython-input-2-2129a51ba2fc>:7: FutureWarning: The frame.append method is deprecated and will be removed from pandas in a future version. Use pandas.concat instead.\n",
            "  kb = kb.append(new_row, ignore_index=True)\n"
          ]
        }
      ],
      "source": [
        "# Import necessary libraries\n",
        "import pandas as pd\n",
        "\n",
        "# Function to add a new entry to the knowledge base\n",
        "def add_entry(kb, topic, best_practices, tips):\n",
        "    new_row = {'Topic': topic, 'Best Practices': best_practices, 'Tips': tips}\n",
        "    kb = kb.append(new_row, ignore_index=True)\n",
        "    return kb\n",
        "\n",
        "# Function to search for entries by topic\n",
        "def search_topic(kb, topic):\n",
        "    return kb[kb['Topic'].str.contains(topic, case=False)]\n",
        "\n",
        "# Function to display all entries\n",
        "def display_all(kb):\n",
        "    print(kb)\n",
        "\n",
        "# Create a knowledge base using a Pandas DataFrame\n",
        "knowledge_base_columns = ['Topic', 'Best Practices', 'Tips']\n",
        "knowledge_base_data = [\n",
        "    ['Energy Use', 'Switch to LED bulbs', 'LED bulbs consume 90% less electricity than incandescent bulbs'],\n",
        "    ['Water Use', 'Install low-flow faucets and showerheads', 'Low-flow fixtures can reduce water use by 30-60% with no noticeable difference'],\n",
        "    ['Transportation', 'Walk, bike, or take public transit when possible', 'Driving less reduces greenhouse gas emissions and saves money on gas'],\n",
        "    ['Food', 'Eat less meat and dairy', 'Animal agriculture accounts for 14.5% of global greenhouse gas emissions'],\n",
        "    ['Waste', 'Reduce single-use plastics', 'Only 9% of plastic waste gets recycled. Cut down on plastic bags, straws, bottles, etc.'],\n",
        "    ['Clothing', 'Buy secondhand and sustainable fabrics', 'Extend the lifecycle of clothing. Choose natural fibers like cotton, linen, hemp.'],\n",
        "    ['Cleaning', 'Use green cleaners or make your own', 'Avoid toxic chemicals. Vinegar, baking soda, and lemon make great natural cleaners.']\n",
        "]\n",
        "\n",
        "knowledge_base = pd.DataFrame(knowledge_base_data, columns=knowledge_base_columns)\n",
        "\n",
        "# Display the existing knowledge base\n",
        "print(\"Existing Knowledge Base:\")\n",
        "display_all(knowledge_base)\n",
        "\n",
        "# Add a new entry\n",
        "print(\"\\nAdding a new entry:\")\n",
        "knowledge_base = add_entry(knowledge_base, 'Heating', 'Install programmable thermostats', 'Programmable thermostats can save up to 10% on heating and cooling.')\n",
        "display_all(knowledge_base)\n",
        "\n",
        "# Search for entries related to 'Water'\n",
        "print(\"\\nSearch results for 'Water':\")\n",
        "results = search_topic(knowledge_base, 'Water')\n",
        "print(results)\n",
        "\n"
      ]
    }
  ]
}