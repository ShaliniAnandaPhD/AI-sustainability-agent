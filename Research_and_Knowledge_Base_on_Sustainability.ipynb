{
  "nbformat": 4,
  "nbformat_minor": 0,
  "metadata": {
    "colab": {
      "provenance": [],
      "authorship_tag": "ABX9TyOjZu0QEjHx8UqMNybNEoLY",
      "include_colab_link": true
    },
    "kernelspec": {
      "name": "python3",
      "display_name": "Python 3"
    },
    "language_info": {
      "name": "python"
    }
  },
  "cells": [
    {
      "cell_type": "markdown",
      "metadata": {
        "id": "view-in-github",
        "colab_type": "text"
      },
      "source": [
        "<a href=\"https://colab.research.google.com/github/ShaliniAnandaPhD/AI-sustainability-agent/blob/main/Research_and_Knowledge_Base_on_Sustainability.ipynb\" target=\"_parent\"><img src=\"https://colab.research.google.com/assets/colab-badge.svg\" alt=\"Open In Colab\"/></a>"
      ]
    },
    {
      "cell_type": "code",
      "execution_count": 1,
      "metadata": {
        "colab": {
          "base_uri": "https://localhost:8080/"
        },
        "id": "bxE3_0yOYXsq",
        "outputId": "698d53d3-fdc8-4196-eac8-0552c13f0a02"
      },
      "outputs": [
        {
          "output_type": "stream",
          "name": "stdout",
          "text": [
            "            Topic                                    Best Practices  \\\n",
            "0      Energy Use                               Switch to LED bulbs   \n",
            "1       Water Use          Install low-flow faucets and showerheads   \n",
            "2  Transportation  Walk, bike, or take public transit when possible   \n",
            "3            Food                           Eat less meat and dairy   \n",
            "4           Waste                        Reduce single-use plastics   \n",
            "5        Clothing            Buy secondhand and sustainable fabrics   \n",
            "6        Cleaning               Use green cleaners or make your own   \n",
            "\n",
            "                                                Tips  \n",
            "0  LED bulbs consume 90% less electricity than in...  \n",
            "1  Low-flow fixtures can reduce water use by 30-6...  \n",
            "2  Driving less reduces greenhouse gas emissions ...  \n",
            "3  Animal agriculture accounts for 14.5% of globa...  \n",
            "4  Only 9% of plastic waste gets recycled. Cut do...  \n",
            "5  Extend the lifecycle of clothing. Choose natur...  \n",
            "6  Avoid toxic chemicals. Vinegar, baking soda, a...  \n"
          ]
        }
      ],
      "source": [
        "# Import libraries\n",
        "import pandas as pd\n",
        "\n",
        "# Create a knowledge base using a pandas DataFrame\n",
        "knowledge_base_columns = ['Topic', 'Best Practices', 'Tips']\n",
        "\n",
        "knowledge_base_data = [\n",
        "  ['Energy Use', 'Switch to LED bulbs', 'LED bulbs consume 90% less electricity than incandescent bulbs'],\n",
        "  ['Water Use', 'Install low-flow faucets and showerheads', 'Low-flow fixtures can reduce water use by 30-60% with no noticeable difference'],\n",
        "  ['Transportation', 'Walk, bike, or take public transit when possible', 'Driving less reduces greenhouse gas emissions and saves money on gas'],\n",
        "  ['Food', 'Eat less meat and dairy', 'Animal agriculture accounts for 14.5% of global greenhouse gas emissions'],\n",
        "  ['Waste', 'Reduce single-use plastics', 'Only 9% of plastic waste gets recycled. Cut down on plastic bags, straws, bottles, etc.'],\n",
        "  ['Clothing', 'Buy secondhand and sustainable fabrics', 'Extend the lifecycle of clothing. Choose natural fibers like cotton, linen, hemp.'],\n",
        "  ['Cleaning', 'Use green cleaners or make your own', 'Avoid toxic chemicals. Vinegar, baking soda, and lemon make great natural cleaners.']\n",
        "]\n",
        "\n",
        "knowledge_base = pd.DataFrame(knowledge_base_data, columns=knowledge_base_columns)\n",
        "\n",
        "print(knowledge_base)\n"
      ]
    }
  ]
}