{
  "nbformat": 4,
  "nbformat_minor": 0,
  "metadata": {
    "colab": {
      "provenance": [],
      "authorship_tag": "ABX9TyPCmoG/XmVqtlhh7PzY7o+/",
      "include_colab_link": true
    },
    "kernelspec": {
      "name": "python3",
      "display_name": "Python 3"
    },
    "language_info": {
      "name": "python"
    }
  },
  "cells": [
    {
      "cell_type": "markdown",
      "metadata": {
        "id": "view-in-github",
        "colab_type": "text"
      },
      "source": [
        "<a href=\"https://colab.research.google.com/github/ShaliniAnandaPhD/AI-sustainability-agent/blob/main/Calculating_carbon_footprint.ipynb\" target=\"_parent\"><img src=\"https://colab.research.google.com/assets/colab-badge.svg\" alt=\"Open In Colab\"/></a>"
      ]
    },
    {
      "cell_type": "markdown",
      "source": [
        "This script serves as a comprehensive tool for calculating and tracking an individual's carbon footprint over time across multiple categories. It also provides personalized advice on how to lower one's carbon footprint in each category. The tool uses JSON files for storing historical data and advice tips, making it easy to expand and customize\n",
        "\n"
      ],
      "metadata": {
        "id": "SPv_EXlikkss"
      }
    },
    {
      "cell_type": "markdown",
      "source": [
        "*The overview*"
      ],
      "metadata": {
        "id": "WFOHV3YJlcpm"
      }
    },
    {
      "cell_type": "code",
      "execution_count": 1,
      "metadata": {
        "colab": {
          "base_uri": "https://localhost:8080/"
        },
        "id": "1DrM02Ymi4HE",
        "outputId": "b9e134ea-7d1a-4af3-b0c9-40015d8440b3"
      },
      "outputs": [
        {
          "output_type": "stream",
          "name": "stdout",
          "text": [
            "Enter the number of miles you've driven today: 20\n",
            "Enter the number of miles you've taken public transit today: 30\n",
            "Enter the number of miles you've flown today: 500\n",
            "Enter 1 if you've eaten meat today, 0 otherwise: 1\n",
            "Enter 1 if you've eaten vegan today, 0 otherwise: 1\n",
            "Enter your household's energy consumption in kWh today: 200\n",
            "Enter your household's water usage in cubic meters today: 30\n",
            "Enter the amount of waste you've generated in kg today: 10\n",
            "Your estimated carbon footprint today is 244.14 kg CO2.\n",
            "Your total estimated carbon footprint is 244.14 kg CO2.\n"
          ]
        }
      ],
      "source": [
        "import json\n",
        "from datetime import date\n",
        "\n",
        "def carbon_footprint_transport(car_miles, public_transit_miles, flights_taken):\n",
        "    return (0.4 * car_miles) + (0.2 * public_transit_miles) + (0.18 * flights_taken)\n",
        "\n",
        "def carbon_footprint_food(meat_days, vegan_days):\n",
        "    return (7 * meat_days) + (2.9 * vegan_days)\n",
        "\n",
        "def carbon_footprint_energy(energy_consumption):\n",
        "    return 0.5 * energy_consumption\n",
        "\n",
        "def carbon_footprint_water(water_usage):\n",
        "    # Assuming 0.708 kg CO2 per cubic meter\n",
        "    return 0.708 * water_usage\n",
        "\n",
        "def carbon_footprint_waste(waste_kg):\n",
        "    # Assuming 0.9 kg CO2 per kg of waste\n",
        "    return 0.9 * waste_kg\n",
        "\n",
        "def load_data():\n",
        "    try:\n",
        "        with open('carbon_data.json', 'r') as f:\n",
        "            return json.load(f)\n",
        "    except FileNotFoundError:\n",
        "        return {}\n",
        "\n",
        "def save_data(data):\n",
        "    with open('carbon_data.json', 'w') as f:\n",
        "        json.dump(data, f)\n",
        "\n",
        "def main():\n",
        "    # Load existing data\n",
        "    data = load_data()\n",
        "\n",
        "    # Get the current date as a string\n",
        "    today = str(date.today())\n",
        "\n",
        "    # Initialize today's data if it doesn't exist\n",
        "    if today not in data:\n",
        "        data[today] = {}\n",
        "\n",
        "    # Get user input\n",
        "    car_miles = float(input(\"Enter the number of miles you've driven today: \"))\n",
        "    public_transit_miles = float(input(\"Enter the number of miles you've taken public transit today: \"))\n",
        "    flights_taken = float(input(\"Enter the number of miles you've flown today: \"))\n",
        "    meat_days = int(input(\"Enter 1 if you've eaten meat today, 0 otherwise: \"))\n",
        "    vegan_days = int(input(\"Enter 1 if you've eaten vegan today, 0 otherwise: \"))\n",
        "    energy_consumption = float(input(\"Enter your household's energy consumption in kWh today: \"))\n",
        "    water_usage = float(input(\"Enter your household's water usage in cubic meters today: \"))\n",
        "    waste_kg = float(input(\"Enter the amount of waste you've generated in kg today: \"))\n",
        "\n",
        "    # Calculate today's carbon footprint\n",
        "    today_footprint = carbon_footprint_transport(car_miles, public_transit_miles, flights_taken)\n",
        "    today_footprint += carbon_footprint_food(meat_days, vegan_days)\n",
        "    today_footprint += carbon_footprint_energy(energy_consumption)\n",
        "    today_footprint += carbon_footprint_water(water_usage)\n",
        "    today_footprint += carbon_footprint_waste(waste_kg)\n",
        "\n",
        "    # Save today's data\n",
        "    data[today]['footprint'] = today_footprint\n",
        "    save_data(data)\n",
        "\n",
        "    # Calculate total carbon footprint so far\n",
        "    total_footprint = sum(day_data['footprint'] for day_data in data.values())\n",
        "    print(f\"Your estimated carbon footprint today is {today_footprint:.2f} kg CO2.\")\n",
        "    print(f\"Your total estimated carbon footprint is {total_footprint:.2f} kg CO2.\")\n",
        "\n",
        "if __name__ == \"__main__\":\n",
        "    main()\n"
      ]
    },
    {
      "cell_type": "markdown",
      "source": [
        "**Going through the code**"
      ],
      "metadata": {
        "id": "CvUHjYIZlmYv"
      }
    },
    {
      "cell_type": "markdown",
      "source": [
        "Import dependancies"
      ],
      "metadata": {
        "id": "C7c7e99wloLU"
      }
    },
    {
      "cell_type": "code",
      "source": [
        "from datetime import date\n",
        "import json\n"
      ],
      "metadata": {
        "id": "0qBgzGX5lgqk"
      },
      "execution_count": 5,
      "outputs": []
    },
    {
      "cell_type": "markdown",
      "source": [
        "Load advice function"
      ],
      "metadata": {
        "id": "Qrx9a0r_lr2_"
      }
    },
    {
      "cell_type": "code",
      "source": [
        "def load_advice():\n",
        "    return {\n",
        "        'transport': 'Consider using public transport or carpooling to reduce your personal car use. Cycling and walking are also great low-impact options.',\n",
        "        'food': 'Reducing meat and dairy consumption can have a significant impact on lowering your carbon footprint.',\n",
        "        'energy': 'Switching to LED light bulbs and unplugging unused electrical devices can save energy.',\n",
        "        'water': 'Fix leaks and consider water-saving appliances to reduce water consumption.',\n",
        "        'waste': 'Recycling, composting, and reducing single-use plastics can significantly reduce your waste footprint.'\n",
        "    }\n"
      ],
      "metadata": {
        "id": "HHS4ak3blu04"
      },
      "execution_count": 6,
      "outputs": []
    },
    {
      "cell_type": "markdown",
      "source": [
        "Footprint calculation function"
      ],
      "metadata": {
        "id": "GflCsXlmlx0a"
      }
    },
    {
      "cell_type": "code",
      "source": [
        "def carbon_footprint_transport(car_miles, public_transit_miles, flights_taken):\n",
        "    return (0.4 * car_miles) + (0.2 * public_transit_miles) + (0.18 * flights_taken)\n",
        "\n",
        "def carbon_footprint_food(meat_days, vegan_days):\n",
        "    return (7 * meat_days) + (2.9 * vegan_days)\n",
        "\n",
        "def carbon_footprint_energy(energy_consumption):\n",
        "    return 0.5 * energy_consumption\n",
        "\n",
        "def carbon_footprint_water(water_usage):\n",
        "    return 0.708 * water_usage\n",
        "\n",
        "def carbon_footprint_waste(waste_kg):\n",
        "    return 0.9 * waste_kg\n"
      ],
      "metadata": {
        "id": "MHdEFD2ll1Gh"
      },
      "execution_count": 7,
      "outputs": []
    },
    {
      "cell_type": "markdown",
      "source": [
        "Load and save data function"
      ],
      "metadata": {
        "id": "DaLFMRu0l2kl"
      }
    },
    {
      "cell_type": "code",
      "source": [
        "def load_data():\n",
        "    try:\n",
        "        with open('carbon_data.json', 'r') as f:\n",
        "            return json.load(f)\n",
        "    except FileNotFoundError:\n",
        "        return {}\n",
        "\n",
        "def save_data(data):\n",
        "    with open('carbon_data.json', 'w') as f:\n",
        "        json.dump(data, f)\n"
      ],
      "metadata": {
        "id": "PebNiYNCl5wS"
      },
      "execution_count": 8,
      "outputs": []
    },
    {
      "cell_type": "markdown",
      "source": [
        "Advice function"
      ],
      "metadata": {
        "id": "6k5FFO9El7Tm"
      }
    },
    {
      "cell_type": "code",
      "source": [
        "def give_advice(category, value):\n",
        "    advice = load_advice()\n",
        "    if value > 0:\n",
        "        print(f\"Advice for reducing {category} footprint: {advice.get(category, 'No advice available')}\")\n"
      ],
      "metadata": {
        "id": "MeogEJ9sl-92"
      },
      "execution_count": 9,
      "outputs": []
    },
    {
      "cell_type": "markdown",
      "source": [
        "Main function"
      ],
      "metadata": {
        "id": "6pzODvZrmAYR"
      }
    },
    {
      "cell_type": "code",
      "source": [
        "def main():\n",
        "    data = load_data()\n",
        "    today = str(date.today())\n",
        "    if today not in data:\n",
        "        data[today] = {}\n",
        "\n",
        "    categories = [\n",
        "        ('transport', carbon_footprint_transport),\n",
        "        ('food', carbon_footprint_food),\n",
        "        ('energy', carbon_footprint_energy),\n",
        "        ('water', carbon_footprint_water),\n",
        "        ('waste', carbon_footprint_waste),\n",
        "    ]\n",
        "\n",
        "    today_footprint = 0.0\n",
        "    for category, func in categories:\n",
        "        inputs = [float(x) for x in input(f\"Enter the values for {category} (comma separated): \").split(\",\")]\n",
        "        footprint = func(*inputs)\n",
        "        today_footprint += footprint\n",
        "        data[today][category] = footprint\n",
        "\n",
        "        give_advice(category, footprint)\n",
        "\n",
        "    save_data(data)\n",
        "\n",
        "    total_footprint = sum(day_data[category] for day_data in data.values() for category in categories)\n",
        "    print(f\"Your estimated carbon footprint today is {today_footprint:.2f} kg CO2.\")\n",
        "    print(f\"Your total estimated carbon footprint is {total_footprint:.2f} kg CO2.\")\n"
      ],
      "metadata": {
        "id": "ybu-oBB4mDUn"
      },
      "execution_count": 10,
      "outputs": []
    },
    {
      "cell_type": "markdown",
      "source": [
        "Run main function"
      ],
      "metadata": {
        "id": "wV4vMMggmE6b"
      }
    },
    {
      "cell_type": "code",
      "source": [
        "def main():\n",
        "    data = load_data()\n",
        "    today = str(date.today())\n",
        "    if today not in data:\n",
        "        data[today] = {}\n",
        "\n",
        "    categories = [\n",
        "        ('transport', carbon_footprint_transport),\n",
        "        ('food', carbon_footprint_food),\n",
        "        ('energy', carbon_footprint_energy),\n",
        "        ('water', carbon_footprint_water),\n",
        "        ('waste', carbon_footprint_waste),\n",
        "    ]\n",
        "\n",
        "    today_footprint = 0.0\n",
        "    for category, func in categories:\n",
        "        inputs = [float(x) for x in input(f\"Enter the values for {category} (comma separated): \").split(\",\")]\n",
        "        footprint = func(*inputs)\n",
        "        today_footprint += footprint\n",
        "        data[today][category] = footprint\n",
        "\n",
        "        give_advice(category, footprint)\n",
        "\n",
        "    save_data(data)\n",
        "\n",
        "    total_footprint = sum(day_data[category] for day_data in data.values() for category in categories)\n",
        "    print(f\"Your estimated carbon footprint today is {today_footprint:.2f} kg CO2.\")\n",
        "    print(f\"Your total estimated carbon footprint is {total_footprint:.2f} kg CO2.\")\n"
      ],
      "metadata": {
        "id": "5-TacDYtmH4r"
      },
      "execution_count": 12,
      "outputs": []
    }
  ]
}