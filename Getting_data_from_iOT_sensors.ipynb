{
  "nbformat": 4,
  "nbformat_minor": 0,
  "metadata": {
    "colab": {
      "provenance": [],
      "authorship_tag": "ABX9TyOaJE2YAdLlZIMHk9YiuwQ8",
      "include_colab_link": true
    },
    "kernelspec": {
      "name": "python3",
      "display_name": "Python 3"
    },
    "language_info": {
      "name": "python"
    }
  },
  "cells": [
    {
      "cell_type": "markdown",
      "metadata": {
        "id": "view-in-github",
        "colab_type": "text"
      },
      "source": [
        "<a href=\"https://colab.research.google.com/github/ShaliniAnandaPhD/AI-sustainability-agent/blob/main/Getting_data_from_iOT_sensors.ipynb\" target=\"_parent\"><img src=\"https://colab.research.google.com/assets/colab-badge.svg\" alt=\"Open In Colab\"/></a>"
      ]
    },
    {
      "cell_type": "markdown",
      "source": [
        "Collecting data from a variety of IoT sensors generally involves a multi-step process that includes data gathering, data preprocessing, and data storage. Below is a Python code example that demonstrates a simplified version of these steps. This example assumes that each sensor has a Python function to read its data, and we're using MQTT (a lightweight messaging protocol for IoT) to simulate the data collection from IoT devices."
      ],
      "metadata": {
        "id": "DWQDSDRjtcZZ"
      }
    },
    {
      "cell_type": "code",
      "execution_count": 1,
      "metadata": {
        "colab": {
          "base_uri": "https://localhost:8080/"
        },
        "id": "iGKiNSwctVf0",
        "outputId": "2c142ccf-1599-40ff-c015-8ef67f80d26e"
      },
      "outputs": [
        {
          "output_type": "stream",
          "name": "stdout",
          "text": [
            "Collecting paho-mqtt\n",
            "  Downloading paho-mqtt-1.6.1.tar.gz (99 kB)\n",
            "\u001b[?25l     \u001b[90m━━━━━━━━━━━━━━━━━━━━━━━━━━━━━━━━━━━━━━━━\u001b[0m \u001b[32m0.0/99.4 kB\u001b[0m \u001b[31m?\u001b[0m eta \u001b[36m-:--:--\u001b[0m\r\u001b[2K     \u001b[90m━━━━━━━━━━━━━━━━━━━━━━━━━━━━━━━━━━━━━━━━\u001b[0m \u001b[32m99.4/99.4 kB\u001b[0m \u001b[31m4.2 MB/s\u001b[0m eta \u001b[36m0:00:00\u001b[0m\n",
            "\u001b[?25h  Preparing metadata (setup.py) ... \u001b[?25l\u001b[?25hdone\n",
            "Building wheels for collected packages: paho-mqtt\n",
            "  Building wheel for paho-mqtt (setup.py) ... \u001b[?25l\u001b[?25hdone\n",
            "  Created wheel for paho-mqtt: filename=paho_mqtt-1.6.1-py3-none-any.whl size=62118 sha256=95f9cc08e2fef9045195b2db15ca0d1087d9c43df0333c5c6cd4b0352476fd23\n",
            "  Stored in directory: /root/.cache/pip/wheels/8b/bb/0c/79444d1dee20324d442856979b5b519b48828b0bd3d05df84a\n",
            "Successfully built paho-mqtt\n",
            "Installing collected packages: paho-mqtt\n",
            "Successfully installed paho-mqtt-1.6.1\n"
          ]
        }
      ],
      "source": [
        "!pip install paho-mqtt\n"
      ]
    },
    {
      "cell_type": "markdown",
      "source": [
        "The read_*_sensor functions simulate the reading of data from various IoT sensors.\n",
        "\n",
        "The collect_sensor_data function collects data from all sensors and updates the SENSOR_DATA dictionary.\n",
        "\n",
        "The MQTT-related code initializes an MQTT client, connects to a broker, and subscribes to a topic.\n",
        "\n",
        "The main loop (if __name__ == \"__main__\":) collects sensor data, converts it to a JSON-formatted string, and publishes it to an MQTT topic."
      ],
      "metadata": {
        "id": "uoLtg_6AtvyL"
      }
    },
    {
      "cell_type": "code",
      "source": [
        "import json\n",
        "import random\n",
        "import time\n",
        "from paho.mqtt import client as mqtt_client\n",
        "\n",
        "# Initialize 'Database' to store sensor data\n",
        "SENSOR_DATA = {\n",
        "    'temperature': 0,  # degrees Celsius\n",
        "    'humidity': 0,  # percentage\n",
        "    'energy_consumption': 0,  # kWh\n",
        "    'water_flow': 0  # Liters per minute\n",
        "}\n",
        "\n",
        "# Functions to read data from sensors (Simulated)\n",
        "def read_temperature_sensor():\n",
        "    return random.uniform(20, 30)\n",
        "\n",
        "def read_humidity_sensor():\n",
        "    return random.uniform(40, 60)\n",
        "\n",
        "def read_energy_sensor():\n",
        "    return random.uniform(1000, 2000)\n",
        "\n",
        "def read_water_flow_sensor():\n",
        "    return random.uniform(10, 20)\n",
        "\n",
        "# Function to collect data from all sensors\n",
        "def collect_sensor_data():\n",
        "    SENSOR_DATA['temperature'] = read_temperature_sensor()\n",
        "    SENSOR_DATA['humidity'] = read_humidity_sensor()\n",
        "    SENSOR_DATA['energy_consumption'] = read_energy_sensor()\n",
        "    SENSOR_DATA['water_flow'] = read_water_flow_sensor()\n",
        "\n",
        "# MQTT settings\n",
        "broker = 'mqtt.eclipse.org'\n",
        "port = 1883\n",
        "topic = \"sustainability/sensor_data\"\n",
        "\n",
        "# MQTT callback for when a message is received\n",
        "def on_message(client, userdata, message):\n",
        "    print(f\"Received message '{message.payload.decode()}' on topic '{message.topic}'\")\n",
        "\n",
        "# Initialize MQTT client\n",
        "client = mqtt_client.Client()\n",
        "client.on_message = on_message\n",
        "client.connect(broker, port)\n",
        "client.subscribe(topic)\n",
        "\n",
        "# Main loop to collect and send sensor data\n",
        "if __name__ == \"__main__\":\n",
        "    client.loop_start()\n",
        "\n",
        "    while True:\n",
        "        collect_sensor_data()\n",
        "        payload = json.dumps(SENSOR_DATA)\n",
        "\n",
        "        # Publish sensor data to MQTT topic\n",
        "        client.publish(topic, payload)\n",
        "        print(f\"Published sensor data: {payload}\")\n",
        "\n",
        "        time.sleep(5)  # Collect data every 5 seconds\n",
        "\n",
        "    client.loop_stop()\n"
      ],
      "metadata": {
        "id": "GvhfSOOduA4P"
      },
      "execution_count": null,
      "outputs": []
    },
    {
      "cell_type": "markdown",
      "source": [
        "HOW DO WE GATHER DATA FROM IoT devices"
      ],
      "metadata": {
        "id": "KE5R8AsWuBz4"
      }
    },
    {
      "cell_type": "markdown",
      "source": [
        "Why Understanding the API is Critical\n",
        "\n",
        "IoT sensors can vary in complexity and functionality, and the means by which you interact with these sensors is usually through their Application Programming Interface, or API. An API is essentially a set of rules and protocols that allow one piece of software or hardware to interact with another. These rules can include the URL you need to connect to, the data format (usually JSON or XML), and any required headers or parameters. Failure to understand these elements will lead to unsuccessful data retrieval or modification attempts. Essentially, knowing how the sensor's API works is akin to knowing how to speak its \"language.\"\n",
        "\n",
        "----------\n",
        "Base URL: The root URL under which all API endpoints reside.\n",
        "\n",
        "Endpoints: Specific URLs for various functionalities (e.g., getting temperature data, updating sensor settings, etc.).\n",
        "\n",
        "Request Methods: Whether you need to use HTTP GET, POST, PUT, or DELETE methods to retrieve or modify data.\n",
        "\n",
        "Request Headers: Any required HTTP headers, like Authorization for including an API key or authentication token.\n",
        "\n",
        "Request Parameters: Any data that needs to be passed as part of the URL or in the body of a POST request.\n",
        "\n",
        "\n"
      ],
      "metadata": {
        "id": "mYv_BOnPuqm8"
      }
    },
    {
      "cell_type": "markdown",
      "source": [
        "Make a basic API call:"
      ],
      "metadata": {
        "id": "3K2iD80evBwx"
      }
    },
    {
      "cell_type": "code",
      "source": [
        "import requests\n",
        "\n",
        "def get_sensor_data(api_url):\n",
        "    try:\n",
        "        response = requests.get(api_url)\n",
        "        response.raise_for_status()\n",
        "        return response.json()\n",
        "    except requests.RequestException as e:\n",
        "        print(f\"An error occurred: {e}\")\n",
        "        return None\n"
      ],
      "metadata": {
        "id": "uBgBJUzEup9U"
      },
      "execution_count": null,
      "outputs": []
    },
    {
      "cell_type": "markdown",
      "source": [
        "Gather Data from Different Types of Sensors\n",
        "Let's say we have three types of sensors: a temperature sensor, a humidity sensor, and an energy consumption sensor. Assume they have RESTful APIs accessible at the following URLs:\n",
        "\n",
        "Temperature Sensor: http://api.sensors.io/temperature\n",
        "\n",
        "Humidity Sensor: http://api.sensors.io/humidity\n",
        "\n",
        "Energy Sensor: http://api.sensors.io/energy"
      ],
      "metadata": {
        "id": "jYekGkxdvEkP"
      }
    },
    {
      "cell_type": "code",
      "source": [
        "def collect_all_sensor_data():\n",
        "    sensors = {\n",
        "        'temperature': 'http://api.sensors.io/temperature',\n",
        "        'humidity': 'http://api.sensors.io/humidity',\n",
        "        'energy': 'http://api.sensors.io/energy'\n",
        "    }\n",
        "    collected_data = {}\n",
        "\n",
        "    for sensor_type, api_url in sensors.items():\n",
        "        data = get_sensor_data(api_url)\n",
        "        if data is not None:\n",
        "            collected_data[sensor_type] = data\n",
        "\n",
        "    return collected_data\n"
      ],
      "metadata": {
        "id": "XZYr67eSvIF7"
      },
      "execution_count": null,
      "outputs": []
    },
    {
      "cell_type": "markdown",
      "source": [
        "API response parsing"
      ],
      "metadata": {
        "id": "AUHRvoEovQKB"
      }
    },
    {
      "cell_type": "code",
      "source": [
        "def get_sensor_data(api_url):\n",
        "    try:\n",
        "        response = requests.get(api_url)\n",
        "        response.raise_for_status()\n",
        "        json_data = response.json()\n",
        "\n",
        "        if 'data' in json_data:\n",
        "            return json_data['data']\n",
        "        else:\n",
        "            return None\n",
        "\n",
        "    except requests.RequestException as e:\n",
        "        print(f\"An error occurred: {e}\")\n",
        "        return None\n"
      ],
      "metadata": {
        "id": "cegSlLPJvXnj"
      },
      "execution_count": null,
      "outputs": []
    },
    {
      "cell_type": "markdown",
      "source": [
        "Putting it all together:\n",
        "\n",
        "Add authentication to the API calls.\n",
        "\n",
        "Handle various types of errors and exceptions more robustly.\n",
        "\n",
        "Store the collected data into a database.\n",
        "\n",
        "Add more features like data caching, logging, etc."
      ],
      "metadata": {
        "id": "76duaTLWvYpV"
      }
    },
    {
      "cell_type": "code",
      "source": [
        "if __name__ == \"__main__\":\n",
        "    collected_data = collect_all_sensor_data()\n",
        "    print(\"Collected Sensor Data:\")\n",
        "    print(collected_data)\n"
      ],
      "metadata": {
        "id": "_27E5pI4viIq"
      },
      "execution_count": null,
      "outputs": []
    }
  ]
}