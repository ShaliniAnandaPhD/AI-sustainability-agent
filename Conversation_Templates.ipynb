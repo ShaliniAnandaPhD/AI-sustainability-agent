{
  "nbformat": 4,
  "nbformat_minor": 0,
  "metadata": {
    "colab": {
      "provenance": [],
      "authorship_tag": "ABX9TyM7SBDfhtrA1Y6Bqo/hndzm",
      "include_colab_link": true
    },
    "kernelspec": {
      "name": "python3",
      "display_name": "Python 3"
    },
    "language_info": {
      "name": "python"
    }
  },
  "cells": [
    {
      "cell_type": "markdown",
      "metadata": {
        "id": "view-in-github",
        "colab_type": "text"
      },
      "source": [
        "<a href=\"https://colab.research.google.com/github/ShaliniAnandaPhD/AI-sustainability-agent/blob/main/Conversation_Templates.ipynb\" target=\"_parent\"><img src=\"https://colab.research.google.com/assets/colab-badge.svg\" alt=\"Open In Colab\"/></a>"
      ]
    },
    {
      "cell_type": "code",
      "execution_count": 1,
      "metadata": {
        "colab": {
          "base_uri": "https://localhost:8080/"
        },
        "id": "C2yBbqieYlzA",
        "outputId": "6e4e3880-40dc-4f8a-82e6-b29436734bb9"
      },
      "outputs": [
        {
          "output_type": "stream",
          "name": "stdout",
          "text": [
            "Conversation templates for 'energy_use':\n",
            "['To decrease your energy consumption, think about using LED bulbs.', 'LED bulbs are up to 90% more energy-efficient and have a lifespan up to 25 times longer than traditional bulbs.', \"Unplug devices and appliances when they're not in use to eliminate phantom load.\", 'Remember to turn off the lights when you exit a room. Small steps make a big difference!']\n",
            "\n",
            "Random conversation template for 'water_use':\n",
            "Using cold water to wash clothes is also more energy-efficient.\n",
            "\n",
            "Conversation templates for 'undefined_topic':\n",
            "['Topic not found']\n"
          ]
        }
      ],
      "source": [
        "import random\n",
        "\n",
        "# Function to get templates for a specified topic\n",
        "def get_templates(topic):\n",
        "    return conversation_templates.get(topic, [\"Topic not found\"])\n",
        "\n",
        "# Function to offer a random tip from a specified topic\n",
        "def get_random_tip(topic):\n",
        "    templates = get_templates(topic)\n",
        "    if templates == [\"Topic not found\"]:\n",
        "        return \"Topic not found\"\n",
        "    return random.choice(templates)\n",
        "\n",
        "# Dictionary containing conversation templates for various sustainability topics\n",
        "conversation_templates = {\n",
        "  'energy_use': [\n",
        "    \"To decrease your energy consumption, think about using LED bulbs.\",\n",
        "    \"LED bulbs are up to 90% more energy-efficient and have a lifespan up to 25 times longer than traditional bulbs.\",\n",
        "    \"Unplug devices and appliances when they're not in use to eliminate phantom load.\",\n",
        "    \"Remember to turn off the lights when you exit a room. Small steps make a big difference!\"\n",
        "  ],\n",
        "\n",
        "  'water_use': [\n",
        "    \"Save water by installing low-flow showerheads and faucets.\",\n",
        "    \"Keep your showers brief—aim for less than 5 minutes.\",\n",
        "    \"Remember to turn off the tap while brushing your teeth or washing dishes.\",\n",
        "    \"Using cold water to wash clothes is also more energy-efficient.\"\n",
        "  ],\n",
        "\n",
        "  'transportation': [\n",
        "    \"Cut down on carbon emissions by walking, biking, or using public transit.\",\n",
        "    \"Combine errands into one trip, consider carpooling, or just reduce the number of trips you take.\",\n",
        "    \"Maintaining proper tire inflation can also improve your vehicle's fuel efficiency.\"\n",
        "  ],\n",
        "\n",
        "  'food': [\n",
        "    \"Lower your environmental impact by consuming less meat and dairy.\",\n",
        "    \"Try dedicating at least one day a week to eating plant-based meals.\",\n",
        "    \"Buy produce that's both local and in-season to minimize transport emissions.\",\n",
        "    \"Be mindful of food waste—plan your meals and reuse leftovers whenever you can.\"\n",
        "  ],\n",
        "\n",
        "  'waste': [\n",
        "    \"Switch to reusable bags, bottles, straws, and containers to lessen plastic waste.\",\n",
        "    \"Make sure you're recycling correctly and consider composting food scraps.\",\n",
        "    \"Avoid disposable items like plastic utensils and paper plates.\",\n",
        "    \"If you're not using something, consider donating or selling it instead of tossing it out.\"\n",
        "  ],\n",
        "\n",
        "  'clothing': [\n",
        "    \"Buying second-hand clothes can prolong the lifespan of garments.\",\n",
        "    \"When you can, opt for sustainable materials like organic cotton, hemp, or linen.\",\n",
        "    \"To save energy, wash clothes in cold water and consider air-drying them.\",\n",
        "    \"Take good care of your clothes through proper washing and repair to extend their lifespan.\"\n",
        "  ],\n",
        "\n",
        "  'cleaning': [\n",
        "    \"Natural ingredients like vinegar, baking soda, and lemon are effective for eco-friendly cleaning.\",\n",
        "    \"Read product labels carefully to steer clear of harsh chemicals.\",\n",
        "    \"Homemade cleaning solutions are both cost-effective and better for the environment.\",\n",
        "    \"Using microfiber cloths can often eliminate the need for additional cleaning agents.\"\n",
        "  ]\n",
        "}\n",
        "\n",
        "# Show all templates for the topic 'energy_use'\n",
        "print(\"Conversation templates for 'energy_use':\")\n",
        "print(get_templates('energy_use'))\n",
        "\n",
        "# Display a random tip for 'water_use'\n",
        "print(\"\\nRandom conversation template for 'water_use':\")\n",
        "print(get_random_tip('water_use'))\n",
        "\n",
        "# Try to get templates for a topic that doesn't exist\n",
        "print(\"\\nConversation templates for 'undefined_topic':\")\n",
        "print(get_templates('undefined_topic'))\n",
        "\n"
      ]
    }
  ]
}